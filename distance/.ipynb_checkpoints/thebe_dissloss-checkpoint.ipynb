{
 "cells": [
  {
   "cell_type": "code",
   "execution_count": 1,
   "metadata": {},
   "outputs": [],
   "source": [
    "import sys\n",
    "sys.path.append(\"/sgai_overlap/\")\n",
    "from functions import *\n",
    "import cmapy\n",
    "\n",
    "os.environ[\"CUDA_VISIBLE_DEVICES\"] = \"1\"  # Only GPU 1 is visible to this code"
   ]
  },
  {
   "cell_type": "code",
   "execution_count": 2,
   "metadata": {},
   "outputs": [],
   "source": [
    "savetest = True\n",
    "if savetest == True:\n",
    "    testorval = \"test\"\n",
    "    seis_path = 'seistest.npy'\n",
    "    label_path = 'faulttest.npy'\n",
    "else:\n",
    "    testorval = \"val\"\n",
    "    seis_path = 'seismicval.npy'\n",
    "    label_path = 'faultval.npy'"
   ]
  },
  {
   "cell_type": "code",
   "execution_count": 3,
   "metadata": {},
   "outputs": [],
   "source": [
    "seis = np.load(seis_path)[:,800:1300,:]\n",
    "fault = np.load(label_path)[:,800:1300,:]"
   ]
  },
  {
   "cell_type": "code",
   "execution_count": 4,
   "metadata": {},
   "outputs": [
    {
     "name": "stdout",
     "output_type": "stream",
     "text": [
      "703 500 3174\n"
     ]
    }
   ],
   "source": [
    "IL, Z, XL = seis.shape\n",
    "print(IL, Z, XL)"
   ]
  },
  {
   "cell_type": "code",
   "execution_count": 5,
   "metadata": {},
   "outputs": [],
   "source": [
    "im_height = Z\n",
    "im_width = XL\n",
    "splitsize = 96\n",
    "stepsize = 96 #no overlap for distance test\n",
    "overlapsize = splitsize-stepsize"
   ]
  },
  {
   "cell_type": "code",
   "execution_count": 6,
   "metadata": {},
   "outputs": [
    {
     "name": "stdout",
     "output_type": "stream",
     "text": [
      "34\n",
      "3264\n",
      "45 45\n",
      "6\n",
      "576\n",
      "38 38\n"
     ]
    }
   ],
   "source": [
    "horizontal_splits_number = int(np.ceil((im_width)/stepsize))\n",
    "print(horizontal_splits_number)\n",
    "width_after_pad = stepsize*horizontal_splits_number+2*overlapsize\n",
    "print(width_after_pad)\n",
    "left_pad = int((width_after_pad-im_width)/2)\n",
    "right_pad = width_after_pad-im_width-left_pad\n",
    "print(left_pad,right_pad)\n",
    "\n",
    "vertical_splits_number = int(np.ceil((im_height)/stepsize))\n",
    "print(vertical_splits_number)\n",
    "height_after_pad = stepsize*vertical_splits_number+2*overlapsize\n",
    "print(height_after_pad)\n",
    "top_pad = int((height_after_pad-im_height)/2)\n",
    "bottom_pad = height_after_pad-im_height-top_pad\n",
    "print(top_pad,bottom_pad)"
   ]
  },
  {
   "cell_type": "code",
   "execution_count": 7,
   "metadata": {},
   "outputs": [
    {
     "name": "stdout",
     "output_type": "stream",
     "text": [
      "0\n"
     ]
    }
   ],
   "source": [
    "halfoverlapsize = int(overlapsize/2)\n",
    "print(halfoverlapsize)"
   ]
  },
  {
   "cell_type": "code",
   "execution_count": 8,
   "metadata": {},
   "outputs": [
    {
     "name": "stdout",
     "output_type": "stream",
     "text": [
      "28764\n",
      "(96, 96)\n",
      "read images in 2.5851213932037354 sec\n",
      "(28764, 1, 96, 96)\n",
      "(28764, 1, 96, 96)\n",
      "read images in 4.970771551132202 sec\n"
     ]
    }
   ],
   "source": [
    "t_start = time.time()\n",
    "X_list = []\n",
    "Y_list = []\n",
    "for i in range(0,len(seis),5):\n",
    "    img = seis[i]\n",
    "    mask = fault[i]\n",
    "    X_list.extend(split_Image(img,True,top_pad,bottom_pad,left_pad,right_pad,splitsize,stepsize,vertical_splits_number,horizontal_splits_number))\n",
    "    Y_list.extend(split_Image(mask,True,top_pad,bottom_pad,left_pad,right_pad,splitsize,stepsize,vertical_splits_number,horizontal_splits_number))\n",
    "print(len(X_list))\n",
    "print(X_list[0].shape)\n",
    "print(\"read images in {} sec\".format(time.time()-t_start))\n",
    "X = np.expand_dims(np.asarray(X_list).astype(np.float32),1)\n",
    "Y = np.expand_dims(np.asarray(Y_list).astype(np.float32),1)\n",
    "print(X.shape)\n",
    "print(Y.shape)\n",
    "print(\"read images in {} sec\".format(time.time()-t_start))\n"
   ]
  },
  {
   "cell_type": "code",
   "execution_count": 9,
   "metadata": {},
   "outputs": [],
   "source": [
    "# idea from: https://www.kaggle.com/erikistre/pytorch-basic-u-net\n",
    "class faultsDataset(torch.utils.data.Dataset):\n",
    "\n",
    "    def __init__(self,preprocessed_images,preprocessed_masks):\n",
    "        \"\"\"\n",
    "        Args:\n",
    "            text_file(string): path to text file\n",
    "            root_dir(string): directory with all train images\n",
    "        \"\"\"\n",
    "        self.images = preprocessed_images\n",
    "        self.masks = preprocessed_masks\n",
    "\n",
    "    def __len__(self):\n",
    "        return len(self.images)\n",
    "\n",
    "    def __getitem__(self, idx):\n",
    "        image = self.images[idx]\n",
    "        mask = self.masks[idx]\n",
    "        return image,mask"
   ]
  },
  {
   "cell_type": "code",
   "execution_count": 10,
   "metadata": {},
   "outputs": [],
   "source": [
    "faults_dataset_test = faultsDataset(X,Y)\n",
    "\n",
    "batch_size = 64\n",
    "\n",
    "test_loader = torch.utils.data.DataLoader(dataset=faults_dataset_test, \n",
    "                                           batch_size=batch_size, \n",
    "                                           shuffle=True)"
   ]
  },
  {
   "cell_type": "code",
   "execution_count": 11,
   "metadata": {},
   "outputs": [
    {
     "name": "stdout",
     "output_type": "stream",
     "text": [
      "use model Unet\n",
      "----------------------------------------------------------------\n",
      "        Layer (type)               Output Shape         Param #\n",
      "================================================================\n",
      "            Conv2d-1           [-1, 32, 96, 96]             320\n",
      "       BatchNorm2d-2           [-1, 32, 96, 96]              64\n",
      "              ReLU-3           [-1, 32, 96, 96]               0\n",
      "         Dropout2d-4           [-1, 32, 96, 96]               0\n",
      "            Conv2d-5           [-1, 32, 96, 96]           9,248\n",
      "       BatchNorm2d-6           [-1, 32, 96, 96]              64\n",
      "              ReLU-7           [-1, 32, 96, 96]               0\n",
      "         Dropout2d-8           [-1, 32, 96, 96]               0\n",
      "       double_conv-9           [-1, 32, 96, 96]               0\n",
      "        MaxPool2d-10           [-1, 32, 48, 48]               0\n",
      "           Conv2d-11           [-1, 64, 48, 48]          18,496\n",
      "      BatchNorm2d-12           [-1, 64, 48, 48]             128\n",
      "             ReLU-13           [-1, 64, 48, 48]               0\n",
      "        Dropout2d-14           [-1, 64, 48, 48]               0\n",
      "           Conv2d-15           [-1, 64, 48, 48]          36,928\n",
      "      BatchNorm2d-16           [-1, 64, 48, 48]             128\n",
      "             ReLU-17           [-1, 64, 48, 48]               0\n",
      "        Dropout2d-18           [-1, 64, 48, 48]               0\n",
      "      double_conv-19           [-1, 64, 48, 48]               0\n",
      "        MaxPool2d-20           [-1, 64, 24, 24]               0\n",
      "           Conv2d-21          [-1, 128, 24, 24]          73,856\n",
      "      BatchNorm2d-22          [-1, 128, 24, 24]             256\n",
      "             ReLU-23          [-1, 128, 24, 24]               0\n",
      "        Dropout2d-24          [-1, 128, 24, 24]               0\n",
      "           Conv2d-25          [-1, 128, 24, 24]         147,584\n",
      "      BatchNorm2d-26          [-1, 128, 24, 24]             256\n",
      "             ReLU-27          [-1, 128, 24, 24]               0\n",
      "        Dropout2d-28          [-1, 128, 24, 24]               0\n",
      "      double_conv-29          [-1, 128, 24, 24]               0\n",
      "        MaxPool2d-30          [-1, 128, 12, 12]               0\n",
      "           Conv2d-31          [-1, 256, 14, 14]         295,168\n",
      "      BatchNorm2d-32          [-1, 256, 14, 14]             512\n",
      "             ReLU-33          [-1, 256, 14, 14]               0\n",
      "        Dropout2d-34          [-1, 256, 14, 14]               0\n",
      "           Conv2d-35          [-1, 256, 16, 16]         590,080\n",
      "      BatchNorm2d-36          [-1, 256, 16, 16]             512\n",
      "             ReLU-37          [-1, 256, 16, 16]               0\n",
      "        Dropout2d-38          [-1, 256, 16, 16]               0\n",
      "      double_conv-39          [-1, 256, 16, 16]               0\n",
      "  ConvTranspose2d-40          [-1, 128, 32, 32]         131,200\n",
      "           Conv2d-41          [-1, 128, 26, 26]         295,040\n",
      "      BatchNorm2d-42          [-1, 128, 26, 26]             256\n",
      "             ReLU-43          [-1, 128, 26, 26]               0\n",
      "        Dropout2d-44          [-1, 128, 26, 26]               0\n",
      "           Conv2d-45          [-1, 128, 28, 28]         147,584\n",
      "      BatchNorm2d-46          [-1, 128, 28, 28]             256\n",
      "             ReLU-47          [-1, 128, 28, 28]               0\n",
      "        Dropout2d-48          [-1, 128, 28, 28]               0\n",
      "      double_conv-49          [-1, 128, 28, 28]               0\n",
      "  ConvTranspose2d-50           [-1, 64, 56, 56]          32,832\n",
      "           Conv2d-51           [-1, 64, 50, 50]          73,792\n",
      "      BatchNorm2d-52           [-1, 64, 50, 50]             128\n",
      "             ReLU-53           [-1, 64, 50, 50]               0\n",
      "        Dropout2d-54           [-1, 64, 50, 50]               0\n",
      "           Conv2d-55           [-1, 64, 52, 52]          36,928\n",
      "      BatchNorm2d-56           [-1, 64, 52, 52]             128\n",
      "             ReLU-57           [-1, 64, 52, 52]               0\n",
      "        Dropout2d-58           [-1, 64, 52, 52]               0\n",
      "      double_conv-59           [-1, 64, 52, 52]               0\n",
      "  ConvTranspose2d-60         [-1, 32, 104, 104]           8,224\n",
      "           Conv2d-61           [-1, 32, 98, 98]          18,464\n",
      "      BatchNorm2d-62           [-1, 32, 98, 98]              64\n",
      "             ReLU-63           [-1, 32, 98, 98]               0\n",
      "        Dropout2d-64           [-1, 32, 98, 98]               0\n",
      "           Conv2d-65         [-1, 32, 100, 100]           9,248\n",
      "      BatchNorm2d-66         [-1, 32, 100, 100]              64\n",
      "             ReLU-67         [-1, 32, 100, 100]               0\n",
      "        Dropout2d-68         [-1, 32, 100, 100]               0\n",
      "      double_conv-69         [-1, 32, 100, 100]               0\n",
      "           Conv2d-70          [-1, 1, 100, 100]              33\n",
      "================================================================\n",
      "Total params: 1,927,841\n",
      "Trainable params: 1,927,841\n",
      "Non-trainable params: 0\n",
      "----------------------------------------------------------------\n",
      "Input size (MB): 0.04\n",
      "Forward/backward pass size (MB): 85.24\n",
      "Params size (MB): 7.35\n",
      "Estimated Total Size (MB): 92.63\n",
      "----------------------------------------------------------------\n"
     ]
    }
   ],
   "source": [
    "model_name = \"unet\" \n",
    "best_iou_threshold = 0.5\n",
    "currentpath = \"/sgai_overlap/\"\n",
    "device = torch.device(\"cuda\")\n",
    "if model_name == \"unet\":\n",
    "    from model_zoo.UNET import Unet\n",
    "    model = Unet()\n",
    "    print(\"use model Unet\")\n",
    "    modelname = \"unet_LRoverlap_0.5Loss12_0.5Loss3_addafterepoch4_seed1\"\n",
    "    best_model_fpath = '{}/models/{}.model'.format(currentpath,modelname) \n",
    "elif model_name == \"unet_fullconv\":\n",
    "    from model_zoo.UNET_fullconv import Unet\n",
    "    model = Unet()\n",
    "    print(\"use model Unet_fullconv\")\n",
    "    modelname = \"unet_fullconv_withoutoverlap_seed1\"\n",
    "    best_model_fpath = '{}/models/{}.model'.format(currentpath,modelname) \n",
    "elif model_name == \"deeplab\":\n",
    "    from model_zoo.DEEPLAB.deeplab import DeepLab\n",
    "    model = DeepLab(backbone='mobilenet', num_classes=1, output_stride=16)\n",
    "    print(\"use model DeepLab\")\n",
    "    modelname = \"deeplab_LRoverlap_0.5Loss12_1Loss3_addafterepoch2\"\n",
    "    best_model_fpath = '{}/models/{}.model'.format(currentpath,modelname) \n",
    "elif model_name == \"rcf\":\n",
    "    from model_zoo.RCF import RCF\n",
    "    model = RCF()\n",
    "    print(\"use model RCF\")\n",
    "    modelname = \"rcf_withoutoverlap\"\n",
    "    best_model_fpath = '{}/models/{}.model'.format(currentpath,modelname) \n",
    "elif model_name == \"rcf_fullconv\":\n",
    "    from model_zoo.rcf_fullconv import RCF\n",
    "    model = RCF()\n",
    "    print(\"use model RCF\")\n",
    "    modelname = \"rcf_fullconv_withoutoverlap_seed1\"\n",
    "    best_model_fpath = '{}/models/{}.model'.format(currentpath,modelname) \n",
    "\n",
    "# print(best_model_fpath)\n",
    "# print(save_path)\n",
    "model.load_state_dict(torch.load(best_model_fpath, map_location=\"cuda:0\"))  # Choose whatever GPU device number you want\n",
    "model.to(device)\n",
    "summary(model, (1, splitsize, splitsize))#,device='cpu')"
   ]
  },
  {
   "cell_type": "code",
   "execution_count": 18,
   "metadata": {},
   "outputs": [
    {
     "name": "stdout",
     "output_type": "stream",
     "text": [
      "time cost:  188.28271293640137\n"
     ]
    }
   ],
   "source": [
    "losses_48 = []\n",
    "splitsize = 96\n",
    "center = (splitsize-1)/2\n",
    "xx, yy = np.mgrid[:splitsize, :splitsize]\n",
    "square = np.maximum(\n",
    "    np.floor(np.abs(xx - center)) , \n",
    "    np.floor(np.abs(yy - center))).astype(np.int8)\n",
    "# print(square)\n",
    "t_start = time.time()\n",
    "for images,masks in test_loader:\n",
    "    images = Variable(images.cuda())\n",
    "    outputs = model(images)\n",
    "    y_preds = outputs\n",
    "    if model_name == \"rcf\" or model_name == \"rcf_fullconv\":\n",
    "        y_preds = outputs[-1]\n",
    "    predictions = y_preds.detach().cpu()\n",
    "    for distance in range (0,np.max(square)+1,1):\n",
    "        distancemask = (square == distance)\n",
    "        batchdistancemask = np.repeat(np.expand_dims(np.expand_dims(distancemask,0),0),len(predictions),axis=0)\n",
    "        losssum = np.multiply(np.abs(predictions-masks),batchdistancemask).sum()\n",
    "        maskpixels = batchdistancemask.sum()\n",
    "        losspixel = losssum/maskpixels\n",
    "#         print(losssum,maskpixels,losspixel)\n",
    "        losses_48.append(losspixel)\n",
    "        \n",
    "print(\"time cost: \",time.time()-t_start)"
   ]
  },
  {
   "cell_type": "code",
   "execution_count": 19,
   "metadata": {},
   "outputs": [
    {
     "name": "stdout",
     "output_type": "stream",
     "text": [
      "(21600,)\n"
     ]
    }
   ],
   "source": [
    "patchdistancelosses = np.asarray(losses_48)\n",
    "print(patchdistancelosses.shape)"
   ]
  },
  {
   "cell_type": "code",
   "execution_count": 20,
   "metadata": {},
   "outputs": [
    {
     "name": "stdout",
     "output_type": "stream",
     "text": [
      "[[0.06026883 0.06262596 0.06537753 ... 0.07797413 0.08055558 0.08166198]\n",
      " [0.09543939 0.10070622 0.09624238 ... 0.0792975  0.07762507 0.07501441]\n",
      " [0.04561509 0.04280145 0.04088631 ... 0.07369535 0.07556038 0.07534651]\n",
      " ...\n",
      " [0.04390394 0.0455284  0.05064748 ... 0.0717207  0.07204685 0.0725655 ]\n",
      " [0.05087328 0.05105791 0.04845735 ... 0.07230106 0.07261296 0.07092527]\n",
      " [0.08524297 0.0820906  0.08568288 ... 0.07153859 0.07299378 0.07497831]]\n"
     ]
    }
   ],
   "source": [
    "patchdistancelosses = patchdistancelosses.reshape((int(len(losses_48)/48),48))\n",
    "print(patchdistancelosses)"
   ]
  },
  {
   "cell_type": "code",
   "execution_count": 21,
   "metadata": {},
   "outputs": [],
   "source": [
    "testsetpatchdistancelosses = np.mean(patchdistancelosses,axis=0)"
   ]
  },
  {
   "cell_type": "code",
   "execution_count": 22,
   "metadata": {},
   "outputs": [
    {
     "data": {
      "image/png": "[encoded data removed]",
      "text/plain": [
       "<Figure size 432x288 with 1 Axes>"
      ]
     },
     "metadata": {
      "needs_background": "light"
     },
     "output_type": "display_data"
    }
   ],
   "source": [
    "fig = plt.figure()\n",
    "x = np.arange(48)\n",
    "plt.plot(x, testsetpatchdistancelosses, '-r', label='mae')\n",
    "plt.legend();"
   ]
  },
  {
   "cell_type": "code",
   "execution_count": 23,
   "metadata": {},
   "outputs": [],
   "source": [
    "# np.save(\"{}_distanceloss800_1300\".format(modelname),testsetpatchdistancelosses)"
   ]
  },
  {
   "cell_type": "code",
   "execution_count": 24,
   "metadata": {},
   "outputs": [
    {
     "data": {
      "image/png": "[encoded data removed]",
      "text/plain": [
       "<Figure size 864x216 with 3 Axes>"
      ]
     },
     "metadata": {
      "needs_background": "light"
     },
     "output_type": "display_data"
    }
   ],
   "source": [
    "import numpy as np\n",
    "unetoverlaploss = np.load(\"unet_LRoverlap_0.5Loss12_0.5Loss3_addafterepoch4_seed1_distanceloss800_1300.npy\")\n",
    "unetwithoutoverlaploss = np.load(\"unet_withoutoverlap_seed1_distanceloss800_1300.npy\")\n",
    "unetfullwithoutoverlaploss = np.load(\"unet_fullconv_withoutoverlap_seed1_distanceloss800_1300.npy\")\n",
    "fig = plt.figure(figsize=(12,3))\n",
    "x = np.arange(48)\n",
    "ax = plt.subplot(1,3,1)\n",
    "\n",
    "ax.plot(x, unetoverlaploss, '-r', label='U-Net_w')\n",
    "ax.plot(x, unetwithoutoverlaploss, '--b', label='U-Net_w/o')\n",
    "ax.plot(x, unetfullwithoutoverlaploss, ':g', label='U-Net_fullconv_w/o')\n",
    "ax.legend( ncol=1, fontsize=11,loc='upper left');\n",
    "ax.set_ylim(0, 0.25)\n",
    "ax.set_yticks(np.arange(0,25, step=5)/100)\n",
    "ax.grid()\n",
    "ax.set_ylabel('Mean Abosolute Error', fontsize=12)\n",
    "\n",
    "deeplaboverlaploss = np.load(\"deeplab_LRoverlap_0.5Loss12_1Loss3_addafterepoch2_distanceloss800_1300.npy\")\n",
    "deeplabwithoutoverlaploss = np.load(\"deeplab_withoutoverlap_distanceloss800_1300.npy\")\n",
    "ax = plt.subplot(1,3,2)\n",
    "ax.plot(x, deeplaboverlaploss, '-r', label='DeepLab_w')\n",
    "ax.plot(x, deeplabwithoutoverlaploss, '--b', label='DeepLab_w/o')\n",
    "ax.set_yticks(np.arange(0,25, step=5)/100)\n",
    "ax.grid()\n",
    "ax.legend( ncol=1, fontsize=11,loc='upper left');\n",
    "ax.set_xlabel('Distance to Patch Centre (Pixels)', fontsize=12) #, fontsize=16\n",
    "\n",
    "rcfoverlaploss = np.load(\"rcf_LRoverlap_0.5Loss12_0.5Loss3_addafterepoch10_distanceloss800_1300.npy\")\n",
    "rcfwithoutoverlaploss = np.load(\"rcf_withoutoverlap_distanceloss800_1300.npy\")\n",
    "rcffullwithoutoverlaploss = np.load(\"rcf_fullconv_withoutoverlap_seed1_distanceloss800_1300.npy\")\n",
    "ax = plt.subplot(1,3,3)\n",
    "ax.plot(x, rcfoverlaploss, '-r', label='RCF_w')\n",
    "ax.plot(x, rcfwithoutoverlaploss, '--b', label='RCF_w/o')\n",
    "ax.plot(x, rcffullwithoutoverlaploss, ':g', label='RCF_fullconv_w/o')\n",
    "ax.set_yticks(np.arange(0,35, step=5)/100)\n",
    "ax.grid()\n",
    "ax.legend( ncol=1, fontsize=11);\n",
    "\n",
    "\n",
    "plt.savefig(\"distance_mse_bw.png\", bbox_inches = 'tight')"
   ]
  },
  {
   "cell_type": "code",
   "execution_count": null,
   "metadata": {},
   "outputs": [],
   "source": []
  }
 ],
 "metadata": {
  "kernelspec": {
   "display_name": "Python 3",
   "language": "python",
   "name": "python3"
  },
  "language_info": {
   "codemirror_mode": {
    "name": "ipython",
    "version": 3
   },
   "file_extension": ".py",
   "mimetype": "text/x-python",
   "name": "python",
   "nbconvert_exporter": "python",
   "pygments_lexer": "ipython3",
   "version": "3.6.6"
  }
 },
 "nbformat": 4,
 "nbformat_minor": 2
}
